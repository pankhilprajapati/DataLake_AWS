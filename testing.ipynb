{
 "cells": [
  {
   "cell_type": "markdown",
   "metadata": {},
   "source": [
    "### Testing file to test the etl.py code \n",
    "- So the data is used which was provided in the workspace and upload it to hadoop cluster to access it in the pyspark session in   EMR notebook\n",
    "  - data input = 'hdfs:///user/data/'  + 'song_data/ all json files' or 'log_data/all json files'\n",
    "  - output in the S3 bucket sparkify created and accessing it with the AWS keys"
   ]
  },
  {
   "cell_type": "code",
   "execution_count": 3,
   "metadata": {},
   "outputs": [
    {
     "data": {
      "application/vnd.jupyter.widget-view+json": {
       "model_id": "ba27a0c5c8fc4be68854ec6df2c2c86f",
       "version_major": 2,
       "version_minor": 0
      },
      "text/plain": [
       "VBox()"
      ]
     },
     "metadata": {},
     "output_type": "display_data"
    },
    {
     "data": {
      "application/vnd.jupyter.widget-view+json": {
       "model_id": "",
       "version_major": 2,
       "version_minor": 0
      },
      "text/plain": [
       "FloatProgress(value=0.0, bar_style='info', description='Progress:', layout=Layout(height='25px', width='50%'),…"
      ]
     },
     "metadata": {},
     "output_type": "display_data"
    }
   ],
   "source": [
    "import configparser\n",
    "from datetime import datetime\n",
    "import os\n",
    "from pyspark.sql import SparkSession\n",
    "from pyspark.sql.functions import udf, col\n",
    "from pyspark.sql.functions import year, month, dayofmonth, hour, weekofyear, date_format,monotonically_increasing_id,dayofweek\n",
    "\n",
    "\n",
    "config = configparser.ConfigParser()\n",
    "config.read('dl.cfg')\n",
    "\n",
    "os.environ['AWS_ACCESS_KEY_ID']=\n",
    "os.environ['AWS_SECRET_ACCESS_KEY']=\n",
    "\n",
    "\n",
    "def create_spark_session():\n",
    "    \"\"\"\n",
    "    Arguments: \n",
    "       - NONE\n",
    "    Return:\n",
    "       - spark - spark session variable\n",
    "    \n",
    "    Description \n",
    "       - create the spark session\n",
    "    \"\"\"\n",
    "    spark = SparkSession \\\n",
    "        .builder \\\n",
    "        .config(\"spark.jars.packages\", \"org.apache.hadoop:hadoop-aws:2.7.0\") \\\n",
    "        .getOrCreate()\n",
    "    return spark\n",
    "\n",
    "\n",
    "def process_song_data(spark, input_data, output_data):\n",
    "    \"\"\"\n",
    "    Arguments: \n",
    "       - spark - spark session variable\n",
    "       - input_data - path of the input files\n",
    "       - output_data - path of the output files\n",
    "\n",
    "    Return:\n",
    "       - NONE\n",
    "    \n",
    "    Description \n",
    "       - Read the input files using the spark session as json files and create the tables songs and artists \n",
    "         then load the parquet files to s3 bucket sparkifyme with given output_data files\n",
    "    \"\"\"\n",
    "    # get filepath to song data file\n",
    "    song_data = input_data + 'song_data/*.json'\n",
    "    \n",
    "    # read song data file\n",
    "    df = spark.read.json(song_data)\n",
    "\n",
    "    # extract columns to create songs table\n",
    "    songs_table = df.select('song_id','title','year','artist_id','duration').dropDuplicates()\n",
    "    songs_table.createOrReplaceTempView('songs')\n",
    "    # write songs table to parquet files partitioned by year and artist\n",
    "    songs_table.write.partitionBy('year','artist_id').parquet(os.path.join(output_data,'songs/songs.parquet'),'overwrite')\n",
    "\n",
    "    # extract columns to create artists table\n",
    "    artists_table =  df.select('artist_id','artist_name','artist_location','artist_latitude','artist_longitude').dropDuplicates()\n",
    "    \n",
    "    # write artists table to parquet files\n",
    "    artists_table.createOrReplaceTempView('artists')\n",
    "    artists_table.write.parquet(os.path.join(output_data,'artists/artists.parquet'),'overwrite')\n",
    "\n",
    "\n",
    "def process_log_data(spark, input_data, output_data):\n",
    "    \"\"\"\n",
    "    Arguments: \n",
    "       - spark - spark session variable\n",
    "       - input_data - path of the input files\n",
    "       - output_data - path of the output files\n",
    "\n",
    "    Return:\n",
    "       - NONE\n",
    "    \n",
    "    Description \n",
    "       - Read the input files using the spark session as json files and create the tables songplays, users and\n",
    "         time. Also convert the time in prope timestamp and date time. \n",
    "         then load the parquet files to s3 bucket sparkifyme with given output_data files\n",
    "    \"\"\"\n",
    "    # get filepath to log data file\n",
    "    log_data =input_data+'log_data/*.json'\n",
    "\n",
    "    # read log data file\n",
    "    df = spark.read.json(log_data)\n",
    "    df.createOrReplaceTempView(\"log_data\")\n",
    "    # filter by actions for song plays\n",
    "    df_filter = df.filter(df.page =='NextSong')\n",
    "\n",
    "    # extract columns for users table    \n",
    "    users_table = df.select('userId','firstName','lastName','gender','level').dropDuplicates()\n",
    "    \n",
    "    # write users table to parquet files\n",
    "    users_table.write.parquet(os.path.join(output_data,'users/users.parquet'),'overwrite')\n",
    "\n",
    "    # create timestamp column from original timestamp column\n",
    "    to_timestamp = udf(lambda x: str(int(int(x)/1000)))\n",
    "    df_filter = df_filter.withColumn('Timestamp',to_timestamp(df_filter.ts)) \n",
    "    \n",
    "    # create datetime column from original timestamp column\n",
    "    to_date = udf(lambda x : str(datetime.fromtimestamp(int(x)/1000)))\n",
    "    df_filter = df_filter.withColumn('datetime',to_date(df_filter.ts)) \n",
    "    \n",
    "    # extract columns to create time table\n",
    "    time_table = df_filter.select('datetime').withColumn('start_time',df_filter.datetime)\\\n",
    "                                         .withColumn('hour',hour('datetime')) \\\n",
    "                                         .withColumn('day',dayofmonth('datetime')) \\\n",
    "                                         .withColumn('week',weekofyear('datetime')) \\\n",
    "                                         .withColumn('month',month('datetime')) \\\n",
    "                                         .withColumn('year',year('datetime')) \\\n",
    "                                         .withColumn('weekday',dayofweek('datetime')).dropDuplicates()\n",
    "    \n",
    "    # write time table to parquet files partitioned by year and month\n",
    "    time_table.write.partitionBy('year','month').parquet(os.path.join(output_data,'times/times.parquet'),'overwrite')\n",
    "\n",
    "    # read in song data to use for songplays table\n",
    "    song_df = spark.read.json(input_data + 'song_data/*.json')\n",
    "    filter_df = df_filter.alias('log')\n",
    "    song_df = song_df.alias('song')\n",
    "    inner_join = filter_df.join(song_df, col('log.artist') == col('song.artist_name'), 'inner')\n",
    "    # extract columns from joined song and log datasets to create songplays table \n",
    "    songplays_table = inner_join.select(\n",
    "                  col('log.datetime').alias('start_time'),\n",
    "                  col('log.userId').alias('user_id'),\n",
    "                  col('log.level').alias('level'),\n",
    "                  col('song.song_id').alias('song_id'),\n",
    "                  col('song.artist_id').alias('artist_id'),\n",
    "                  col('log.sessionId').alias('session_id'),\n",
    "                  col('log.location').alias('location'),\n",
    "                  col('log.userAgent').alias('user_agent'),\n",
    "                  year('log.datetime').alias('year'),\n",
    "                  month('log.datetime').alias('month')).withColumn('songplay_id',monotonically_increasing_id())\n",
    "\n",
    "    # write songplays table to parquet files partitioned by year and month\n",
    "    songplays_table.write.partitionBy('year','month').parquet(os.path.join(output_data,'songplays/songplays.parquet'),'overwrite')\n",
    "def main():\n",
    "    spark = create_spark_session()\n",
    "    input_data = \"hdfs:///user/data/\"\n",
    "    output_data = \"s3a://sparkifyme/local_output/\"\n",
    "    \n",
    "    process_song_data(spark, input_data, output_data)    \n",
    "    process_log_data(spark, input_data, output_data)\n",
    "\n",
    "\n"
   ]
  },
  {
   "cell_type": "code",
   "execution_count": 4,
   "metadata": {},
   "outputs": [
    {
     "data": {
      "application/vnd.jupyter.widget-view+json": {
       "model_id": "1a517c9eea974571b73ddbf31b367e4b",
       "version_major": 2,
       "version_minor": 0
      },
      "text/plain": [
       "VBox()"
      ]
     },
     "metadata": {},
     "output_type": "display_data"
    },
    {
     "data": {
      "application/vnd.jupyter.widget-view+json": {
       "model_id": "",
       "version_major": 2,
       "version_minor": 0
      },
      "text/plain": [
       "FloatProgress(value=0.0, bar_style='info', description='Progress:', layout=Layout(height='25px', width='50%'),…"
      ]
     },
     "metadata": {},
     "output_type": "display_data"
    }
   ],
   "source": [
    "main()"
   ]
  },
  {
   "cell_type": "code",
   "execution_count": null,
   "metadata": {},
   "outputs": [],
   "source": []
  }
 ],
 "metadata": {
  "kernelspec": {
   "display_name": "PySpark",
   "language": "",
   "name": "pysparkkernel"
  },
  "language_info": {
   "codemirror_mode": {
    "name": "python",
    "version": 2
   },
   "mimetype": "text/x-python",
   "name": "pyspark",
   "pygments_lexer": "python2"
  }
 },
 "nbformat": 4,
 "nbformat_minor": 4
}